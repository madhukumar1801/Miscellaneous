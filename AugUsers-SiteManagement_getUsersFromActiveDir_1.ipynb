{
 "cells": [
  {
   "cell_type": "markdown",
   "metadata": {},
   "source": [
    "# Get list of users from Active Directory and write to csv"
   ]
  },
  {
   "cell_type": "code",
   "execution_count": 1,
   "metadata": {},
   "outputs": [],
   "source": [
    "import csv\n",
    "from pyad import adsearch\n",
    "from datetime import datetime\n",
    "from os import listdir"
   ]
  },
  {
   "cell_type": "markdown",
   "metadata": {},
   "source": [
    "### Functions"
   ]
  },
  {
   "cell_type": "code",
   "execution_count": 2,
   "metadata": {},
   "outputs": [],
   "source": [
    "import csv\n",
    "from pyad import adsearch\n",
    "\n",
    "def extrFirstLastName(displayName):\n",
    "        firstName, lastName = '', ''\n",
    "    \n",
    "        for namePart in displayName.split(' '):\n",
    "            if namePart == namePart.upper():\n",
    "                lastName += namePart+' '\n",
    "            else:\n",
    "                firstName += namePart+' '\n",
    "                \n",
    "        firstName, lastName = firstName.strip(), lastName.strip()\n",
    "        \n",
    "        return [firstName, lastName]\n",
    "    \n",
    "\n",
    "def extrManagerName(manager):\n",
    "    for item in manager.split(','):\n",
    "        if item[:3] == 'CN=':\n",
    "            manager = item[3:]\n",
    "            return manager\n",
    "    return ''\n",
    "\n",
    "\n",
    "def newUsers(augUsers, lastUsers):\n",
    "    newUserL = []\n",
    "    for currentUser in augUsers:\n",
    "        if currentUser['displayName'] not in [item['displayName'] for item in lastUsers]:\n",
    "            newUserL.append({'name': currentUser['displayName']})\n",
    "            \n",
    "    if newUserL:\n",
    "        fileName = 'new_augUsers' + datetime.now().strftime(\"%y%m%d_%H%M%S\") + '.csv'\n",
    "        writeCSV(fileName, newUserL)\n",
    "    \n",
    "    return\n",
    "\n",
    "\n",
    "def leftUsers(augUsers, lastUsers):\n",
    "    leftUserL = []\n",
    "    for oldUser in lastUsers:\n",
    "        if oldUser['displayName'] not in [item['displayName'] for item in augUsers]:\n",
    "            leftUserL.append({'name':oldUser['displayName']})\n",
    "            \n",
    "    if leftUserL:\n",
    "        fileName = 'left_augUsers' + datetime.now().strftime(\"%y%m%d_%H%M%S\") + '.csv'\n",
    "        writeCSV(fileName, leftUserL)\n",
    "            \n",
    "    return\n",
    "\n",
    "\n",
    "def newManagers(augUsers, lastUsers):\n",
    "    newManagerL = []\n",
    "    for currentUser in augUsers:\n",
    "        currentManager = currentUser['manager']\n",
    "        oldManagerL = [item['manager'] for item in lastUsers if currentUser['displayName'] == item['displayName']]\n",
    "\n",
    "        if oldManagerL: \n",
    "            oldManager = oldManagerL[0]\n",
    "        else:\n",
    "            oldManager = ''\n",
    "\n",
    "        if currentManager != oldManager and currentManager and oldManager:\n",
    "            newManagerL.append({'name':currentUser['displayName'], \n",
    "                                'oldManager':extrManagerName(oldManager), \n",
    "                                'newManager':extrManagerName(currentManager) })\n",
    "    if newManagerL:\n",
    "        fileName = 'newMngr_augUsers' + datetime.now().strftime(\"%y%m%d_%H%M%S\") + '.csv'\n",
    "        writeCSV(fileName, newManagerL)\n",
    "    \n",
    "    return\n",
    "\n",
    "# - - - - - -\n",
    "\n",
    "def writeCSV(fileName, listOfDict):\n",
    "    attributeList = list(listOfDict[-1].keys())\n",
    "    csv.register_dialect('myDialect', delimiter = ',' , lineterminator = '\\n', quoting=csv.QUOTE_ALL)\n",
    "\n",
    "    print('... writing {}'.format(fileName))\n",
    "\n",
    "    with open(fileName, mode='w') as csv_file:\n",
    "        writer = csv.DictWriter(csv_file, fieldnames=attributeList, dialect='myDialect')\n",
    "        writer.writeheader()\n",
    "        writer.writerows(listOfDict)   \n",
    "\n",
    "    csv_file.close()\n",
    "    return"
   ]
  },
  {
   "cell_type": "markdown",
   "metadata": {},
   "source": [
    "### get users from AD"
   ]
  },
  {
   "cell_type": "code",
   "execution_count": 3,
   "metadata": {},
   "outputs": [
    {
     "name": "stdout",
     "output_type": "stream",
     "text": [
      "= = = Get Users From AD = = =\n",
      "... getting users ...\n"
     ]
    }
   ],
   "source": [
    "print('= = = Get Users From AD = = =')\n",
    "print('... getting users ...')\n",
    "\n",
    "q = adsearch.ADQuery()\n",
    "attributeList = ['displayName', 'mail', 'title', 'telephoneNumber', 'mobile', 'manager', 'directReports', 'physicalDeliveryOfficeName']\n",
    "q.execute_query( attributes=attributeList, where_clause = \"objectClass = '*'\", base_dn = \"OU=Users,OU=AUG,OU=DE,DC=ls,DC=ege,DC=ds\")\n",
    "\n",
    "augUsers = [ row for row in q.get_results() if row['displayName']  ]"
   ]
  },
  {
   "cell_type": "markdown",
   "metadata": {},
   "source": [
    "### name processing"
   ]
  },
  {
   "cell_type": "code",
   "execution_count": 5,
   "metadata": {},
   "outputs": [],
   "source": [
    "for i,user in enumerate(augUsers):\n",
    "    augUsers[i]['firstName'], augUsers[i]['lastName'] = extrFirstLastName(user['displayName'])\n",
    "    \n",
    "    if user['manager']:\n",
    "        managerName = extrManagerName(user['manager'])\n",
    "        augUsers[i]['managerName']= managerName"
   ]
  },
  {
   "cell_type": "markdown",
   "metadata": {},
   "source": [
    "### read recent users from csv"
   ]
  },
  {
   "cell_type": "code",
   "execution_count": 7,
   "metadata": {},
   "outputs": [
    {
     "name": "stdout",
     "output_type": "stream",
     "text": [
      "... comparing to recent users\n",
      "... comparing to file: augUsers190527_134653.csv\n"
     ]
    }
   ],
   "source": [
    "print('... comparing to recent users')\n",
    "\n",
    "lastfilesL = [item for item in listdir('./') if 'augUsers' == item[:8]]\n",
    "\n",
    "if lastfilesL:\n",
    "    lastfile = sorted(lastfilesL)[-1]\n",
    "    print('... comparing to file: {}'.format(lastfile))\n",
    "\n",
    "    with open(lastfile) as f:\n",
    "         lastUsers = [{k: v for k, v in row.items()}\n",
    "              for row in csv.DictReader(f, skipinitialspace=True)]"
   ]
  },
  {
   "cell_type": "markdown",
   "metadata": {},
   "source": [
    "### users with new manager"
   ]
  },
  {
   "cell_type": "code",
   "execution_count": 9,
   "metadata": {},
   "outputs": [],
   "source": [
    "newManagerL = []\n",
    "for currentUser in augUsers:\n",
    "    currentManager = currentUser['manager']\n",
    "    oldManagerL = [item['manager'] for item in lastUsers if currentUser['displayName'] == item['displayName']]\n",
    "\n",
    "    if oldManagerL: \n",
    "        oldManager = oldManagerL[0]\n",
    "    else:\n",
    "        oldManager = ''\n",
    "\n",
    "    if currentManager != oldManager and currentManager and oldManager:\n",
    "        newManagerL.append({'name':currentUser['displayName'], \n",
    "                            'oldManager':extrManagerName(oldManager), \n",
    "                            'newManager':extrManagerName(currentManager) })"
   ]
  },
  {
   "cell_type": "markdown",
   "metadata": {},
   "source": [
    "### users left"
   ]
  },
  {
   "cell_type": "code",
   "execution_count": 12,
   "metadata": {},
   "outputs": [],
   "source": [
    "leftUserL = []\n",
    "for oldUser in lastUsers:\n",
    "    if oldUser['displayName'] not in [item['displayName'] for item in augUsers]:\n",
    "        leftUserL.append({'name':oldUser['displayName']})"
   ]
  },
  {
   "cell_type": "markdown",
   "metadata": {},
   "source": [
    "### new users"
   ]
  },
  {
   "cell_type": "code",
   "execution_count": 17,
   "metadata": {},
   "outputs": [],
   "source": [
    "newUserL = []\n",
    "for currentUser in augUsers:\n",
    "    if currentUser['displayName'] not in [item['displayName'] for item in lastUsers]:\n",
    "        newUserL.append({'name': currentUser['displayName']})"
   ]
  }
 ],
 "metadata": {
  "kernelspec": {
   "display_name": "Python 3",
   "language": "python",
   "name": "python3"
  },
  "language_info": {
   "codemirror_mode": {
    "name": "ipython",
    "version": 3
   },
   "file_extension": ".py",
   "mimetype": "text/x-python",
   "name": "python",
   "nbconvert_exporter": "python",
   "pygments_lexer": "ipython3",
   "version": "3.7.3"
  }
 },
 "nbformat": 4,
 "nbformat_minor": 2
}
